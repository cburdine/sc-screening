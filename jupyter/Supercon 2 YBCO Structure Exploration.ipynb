{
 "cells": [
  {
   "cell_type": "markdown",
   "id": "094f2f1c",
   "metadata": {},
   "source": [
    "# Supercon v2 YBCO Structure Exploration\n",
    "---\n",
    "\n",
    "This notebook uses the cleaned supercon v2 dataset. The original data can be downloaded [here]()"
   ]
  },
  {
   "cell_type": "code",
   "execution_count": 2,
   "id": "2ab5bc12",
   "metadata": {},
   "outputs": [],
   "source": [
    "from sctk.databases import MaterialsProject, COD\n",
    "from sctk.materials import Material, Superconductor\n",
    "from sctk.structure import StructurePhaseDiagram\n",
    "from sctk.notebook import init_notebook\n",
    "\n",
    "init_notebook()"
   ]
  },
  {
   "cell_type": "code",
   "execution_count": 3,
   "id": "191719b8",
   "metadata": {},
   "outputs": [],
   "source": [
    "!export MPRESTER_MUTE_PROGRESS_BARS=True"
   ]
  },
  {
   "cell_type": "markdown",
   "id": "4d0b2daa",
   "metadata": {},
   "source": [
    "## Construct YBCO Structure Phase Diagram:"
   ]
  },
  {
   "cell_type": "code",
   "execution_count": 4,
   "id": "e35fd338",
   "metadata": {},
   "outputs": [
    {
     "name": "stderr",
     "output_type": "stream",
     "text": [
      "/media/colin/Shared/colin/git/materials-ml/env/lib/python3.10/site-packages/mp_api/client/mprester.py:146: UserWarning: mpcontribs-client not installed. Install the package to query MPContribs data, or construct pourbaix diagrams: 'pip install mpcontribs-client'\n",
      "  warnings.warn(\n"
     ]
    },
    {
     "data": {
      "application/vnd.jupyter.widget-view+json": {
       "model_id": "75fcbc96fd6946a3b32a9d2b5d6098e4",
       "version_major": 2,
       "version_minor": 0
      },
      "text/plain": [
       "  0%|          | 0/15 [00:00<?, ?it/s]"
      ]
     },
     "metadata": {},
     "output_type": "display_data"
    },
    {
     "data": {
      "application/vnd.jupyter.widget-view+json": {
       "model_id": "c218ec34fb9d45439d2e0469b9fdec12",
       "version_major": 2,
       "version_minor": 0
      },
      "text/plain": [
       "Retrieving SummaryDoc documents:   0%|          | 0/4 [00:00<?, ?it/s]"
      ]
     },
     "metadata": {},
     "output_type": "display_data"
    },
    {
     "data": {
      "application/vnd.jupyter.widget-view+json": {
       "model_id": "ad242018ead8434bb837cddd5de03305",
       "version_major": 2,
       "version_minor": 0
      },
      "text/plain": [
       "Retrieving SummaryDoc documents:   0%|          | 0/4 [00:00<?, ?it/s]"
      ]
     },
     "metadata": {},
     "output_type": "display_data"
    },
    {
     "data": {
      "application/vnd.jupyter.widget-view+json": {
       "model_id": "b3aafa90d3ad4636a7266dc6158cd11d",
       "version_major": 2,
       "version_minor": 0
      },
      "text/plain": [
       "Retrieving SummaryDoc documents:   0%|          | 0/4 [00:00<?, ?it/s]"
      ]
     },
     "metadata": {},
     "output_type": "display_data"
    },
    {
     "data": {
      "application/vnd.jupyter.widget-view+json": {
       "model_id": "977fac51ab544411b249ea4546f76a30",
       "version_major": 2,
       "version_minor": 0
      },
      "text/plain": [
       "Retrieving SummaryDoc documents:   0%|          | 0/21 [00:00<?, ?it/s]"
      ]
     },
     "metadata": {},
     "output_type": "display_data"
    },
    {
     "data": {
      "application/vnd.jupyter.widget-view+json": {
       "model_id": "dc0122cf43af4917bd68b6071a0862e8",
       "version_major": 2,
       "version_minor": 0
      },
      "text/plain": [
       "Retrieving SummaryDoc documents:   0%|          | 0/21 [00:00<?, ?it/s]"
      ]
     },
     "metadata": {},
     "output_type": "display_data"
    },
    {
     "data": {
      "application/vnd.jupyter.widget-view+json": {
       "model_id": "3b105761708b4c3c821ff95aa142f96e",
       "version_major": 2,
       "version_minor": 0
      },
      "text/plain": [
       "Retrieving SummaryDoc documents:   0%|          | 0/21 [00:00<?, ?it/s]"
      ]
     },
     "metadata": {},
     "output_type": "display_data"
    },
    {
     "data": {
      "application/vnd.jupyter.widget-view+json": {
       "model_id": "a71b920277dc45b7be7c73e3b07cb139",
       "version_major": 2,
       "version_minor": 0
      },
      "text/plain": [
       "Retrieving SummaryDoc documents:   0%|          | 0/11 [00:00<?, ?it/s]"
      ]
     },
     "metadata": {},
     "output_type": "display_data"
    },
    {
     "data": {
      "application/vnd.jupyter.widget-view+json": {
       "model_id": "4bf0fc71b903479dad91a9f0689b4eef",
       "version_major": 2,
       "version_minor": 0
      },
      "text/plain": [
       "Retrieving SummaryDoc documents:   0%|          | 0/11 [00:00<?, ?it/s]"
      ]
     },
     "metadata": {},
     "output_type": "display_data"
    },
    {
     "data": {
      "application/vnd.jupyter.widget-view+json": {
       "model_id": "1755c8269b75476abcb040a4a1cfae7c",
       "version_major": 2,
       "version_minor": 0
      },
      "text/plain": [
       "Retrieving SummaryDoc documents:   0%|          | 0/11 [00:00<?, ?it/s]"
      ]
     },
     "metadata": {},
     "output_type": "display_data"
    },
    {
     "data": {
      "application/vnd.jupyter.widget-view+json": {
       "model_id": "9c9dd08392be435a95003339665122cf",
       "version_major": 2,
       "version_minor": 0
      },
      "text/plain": [
       "Retrieving SummaryDoc documents:   0%|          | 0/8 [00:00<?, ?it/s]"
      ]
     },
     "metadata": {},
     "output_type": "display_data"
    },
    {
     "data": {
      "application/vnd.jupyter.widget-view+json": {
       "model_id": "afe2acb9b8ba49d990f6a18d7a162929",
       "version_major": 2,
       "version_minor": 0
      },
      "text/plain": [
       "Retrieving SummaryDoc documents:   0%|          | 0/8 [00:00<?, ?it/s]"
      ]
     },
     "metadata": {},
     "output_type": "display_data"
    },
    {
     "data": {
      "application/vnd.jupyter.widget-view+json": {
       "model_id": "6bbbddbc5ff748329df972705626fad2",
       "version_major": 2,
       "version_minor": 0
      },
      "text/plain": [
       "Retrieving SummaryDoc documents:   0%|          | 0/8 [00:00<?, ?it/s]"
      ]
     },
     "metadata": {},
     "output_type": "display_data"
    },
    {
     "data": {
      "application/vnd.jupyter.widget-view+json": {
       "model_id": "1c14ff914d3349f885da57ab421f1eca",
       "version_major": 2,
       "version_minor": 0
      },
      "text/plain": [
       "Retrieving SummaryDoc documents:   0%|          | 0/21 [00:00<?, ?it/s]"
      ]
     },
     "metadata": {},
     "output_type": "display_data"
    },
    {
     "data": {
      "application/vnd.jupyter.widget-view+json": {
       "model_id": "9f82f6f099c54c5d89dbd5ce96adf1e0",
       "version_major": 2,
       "version_minor": 0
      },
      "text/plain": [
       "Retrieving SummaryDoc documents:   0%|          | 0/21 [00:00<?, ?it/s]"
      ]
     },
     "metadata": {},
     "output_type": "display_data"
    },
    {
     "data": {
      "application/vnd.jupyter.widget-view+json": {
       "model_id": "a798564ff6ee4d34afe9e5018608cd8e",
       "version_major": 2,
       "version_minor": 0
      },
      "text/plain": [
       "Retrieving SummaryDoc documents:   0%|          | 0/21 [00:00<?, ?it/s]"
      ]
     },
     "metadata": {},
     "output_type": "display_data"
    },
    {
     "data": {
      "application/vnd.jupyter.widget-view+json": {
       "model_id": "af317c94627e49a7b324e107f876b44a",
       "version_major": 2,
       "version_minor": 0
      },
      "text/plain": [
       "Retrieving SummaryDoc documents:   0%|          | 0/3 [00:00<?, ?it/s]"
      ]
     },
     "metadata": {},
     "output_type": "display_data"
    },
    {
     "data": {
      "application/vnd.jupyter.widget-view+json": {
       "model_id": "af0e91e39ea140efbf249cea65f2261e",
       "version_major": 2,
       "version_minor": 0
      },
      "text/plain": [
       "Retrieving SummaryDoc documents:   0%|          | 0/3 [00:00<?, ?it/s]"
      ]
     },
     "metadata": {},
     "output_type": "display_data"
    },
    {
     "data": {
      "application/vnd.jupyter.widget-view+json": {
       "model_id": "9a00092f551846ae83921a3e18eb38ee",
       "version_major": 2,
       "version_minor": 0
      },
      "text/plain": [
       "Retrieving SummaryDoc documents:   0%|          | 0/3 [00:00<?, ?it/s]"
      ]
     },
     "metadata": {},
     "output_type": "display_data"
    },
    {
     "data": {
      "application/vnd.jupyter.widget-view+json": {
       "model_id": "ae12ba09bef840379dd60d80b158c7b5",
       "version_major": 2,
       "version_minor": 0
      },
      "text/plain": [
       "Retrieving SummaryDoc documents:   0%|          | 0/7 [00:00<?, ?it/s]"
      ]
     },
     "metadata": {},
     "output_type": "display_data"
    },
    {
     "data": {
      "application/vnd.jupyter.widget-view+json": {
       "model_id": "d1f6ce9799ed4abcb87e2d3be67ff379",
       "version_major": 2,
       "version_minor": 0
      },
      "text/plain": [
       "Retrieving SummaryDoc documents:   0%|          | 0/7 [00:00<?, ?it/s]"
      ]
     },
     "metadata": {},
     "output_type": "display_data"
    },
    {
     "data": {
      "application/vnd.jupyter.widget-view+json": {
       "model_id": "1e82e9a8e20b461494538904e1d689b5",
       "version_major": 2,
       "version_minor": 0
      },
      "text/plain": [
       "Retrieving SummaryDoc documents:   0%|          | 0/7 [00:00<?, ?it/s]"
      ]
     },
     "metadata": {},
     "output_type": "display_data"
    },
    {
     "data": {
      "application/vnd.jupyter.widget-view+json": {
       "model_id": "d8365e1de2a14da98d4b0032526f65e4",
       "version_major": 2,
       "version_minor": 0
      },
      "text/plain": [
       "Retrieving SummaryDoc documents:   0%|          | 0/28 [00:00<?, ?it/s]"
      ]
     },
     "metadata": {},
     "output_type": "display_data"
    },
    {
     "data": {
      "application/vnd.jupyter.widget-view+json": {
       "model_id": "3519ced1187647e99195a9865fee39f2",
       "version_major": 2,
       "version_minor": 0
      },
      "text/plain": [
       "Retrieving SummaryDoc documents:   0%|          | 0/28 [00:00<?, ?it/s]"
      ]
     },
     "metadata": {},
     "output_type": "display_data"
    },
    {
     "data": {
      "application/vnd.jupyter.widget-view+json": {
       "model_id": "a6bde6f5e0ab4581b43a4023f2453212",
       "version_major": 2,
       "version_minor": 0
      },
      "text/plain": [
       "Retrieving SummaryDoc documents:   0%|          | 0/28 [00:00<?, ?it/s]"
      ]
     },
     "metadata": {},
     "output_type": "display_data"
    },
    {
     "data": {
      "application/vnd.jupyter.widget-view+json": {
       "model_id": "064061eeaae94826992470cbfa8e69f7",
       "version_major": 2,
       "version_minor": 0
      },
      "text/plain": [
       "Retrieving SummaryDoc documents:   0%|          | 0/37 [00:00<?, ?it/s]"
      ]
     },
     "metadata": {},
     "output_type": "display_data"
    },
    {
     "data": {
      "application/vnd.jupyter.widget-view+json": {
       "model_id": "cd02dd9b877c45bbbbae2796bb616eb7",
       "version_major": 2,
       "version_minor": 0
      },
      "text/plain": [
       "Retrieving SummaryDoc documents:   0%|          | 0/37 [00:00<?, ?it/s]"
      ]
     },
     "metadata": {},
     "output_type": "display_data"
    },
    {
     "data": {
      "application/vnd.jupyter.widget-view+json": {
       "model_id": "2b210bebf8d4403fa7513c65685549dc",
       "version_major": 2,
       "version_minor": 0
      },
      "text/plain": [
       "Retrieving SummaryDoc documents:   0%|          | 0/37 [00:00<?, ?it/s]"
      ]
     },
     "metadata": {},
     "output_type": "display_data"
    },
    {
     "data": {
      "application/vnd.jupyter.widget-view+json": {
       "model_id": "77462b467871493f8efcf5621f15d46c",
       "version_major": 2,
       "version_minor": 0
      },
      "text/plain": [
       "Retrieving SummaryDoc documents:   0%|          | 0/2 [00:00<?, ?it/s]"
      ]
     },
     "metadata": {},
     "output_type": "display_data"
    },
    {
     "data": {
      "application/vnd.jupyter.widget-view+json": {
       "model_id": "afc4697d2dc849d59b5843e8916d2c8e",
       "version_major": 2,
       "version_minor": 0
      },
      "text/plain": [
       "Retrieving SummaryDoc documents:   0%|          | 0/2 [00:00<?, ?it/s]"
      ]
     },
     "metadata": {},
     "output_type": "display_data"
    },
    {
     "data": {
      "application/vnd.jupyter.widget-view+json": {
       "model_id": "c7ea6d102c774c299f5b4a5dffff1668",
       "version_major": 2,
       "version_minor": 0
      },
      "text/plain": [
       "Retrieving SummaryDoc documents:   0%|          | 0/2 [00:00<?, ?it/s]"
      ]
     },
     "metadata": {},
     "output_type": "display_data"
    },
    {
     "data": {
      "application/vnd.jupyter.widget-view+json": {
       "model_id": "b2835526b1fd41af928b72a46fb5f890",
       "version_major": 2,
       "version_minor": 0
      },
      "text/plain": [
       "Retrieving SummaryDoc documents:   0%|          | 0/6 [00:00<?, ?it/s]"
      ]
     },
     "metadata": {},
     "output_type": "display_data"
    },
    {
     "data": {
      "application/vnd.jupyter.widget-view+json": {
       "model_id": "2f8e9cb16b0f4f058dd2eb16dfd41176",
       "version_major": 2,
       "version_minor": 0
      },
      "text/plain": [
       "Retrieving SummaryDoc documents:   0%|          | 0/6 [00:00<?, ?it/s]"
      ]
     },
     "metadata": {},
     "output_type": "display_data"
    },
    {
     "data": {
      "application/vnd.jupyter.widget-view+json": {
       "model_id": "19666c497b374d588276720b9491d4bf",
       "version_major": 2,
       "version_minor": 0
      },
      "text/plain": [
       "Retrieving SummaryDoc documents:   0%|          | 0/6 [00:00<?, ?it/s]"
      ]
     },
     "metadata": {},
     "output_type": "display_data"
    },
    {
     "data": {
      "application/vnd.jupyter.widget-view+json": {
       "model_id": "fdfee0abcd5e49c199d0a830b1a7a997",
       "version_major": 2,
       "version_minor": 0
      },
      "text/plain": [
       "Retrieving SummaryDoc documents:   0%|          | 0/22 [00:00<?, ?it/s]"
      ]
     },
     "metadata": {},
     "output_type": "display_data"
    },
    {
     "data": {
      "application/vnd.jupyter.widget-view+json": {
       "model_id": "dcb1c801f1bb4caca8ea7f16910ba899",
       "version_major": 2,
       "version_minor": 0
      },
      "text/plain": [
       "Retrieving SummaryDoc documents:   0%|          | 0/22 [00:00<?, ?it/s]"
      ]
     },
     "metadata": {},
     "output_type": "display_data"
    },
    {
     "data": {
      "application/vnd.jupyter.widget-view+json": {
       "model_id": "a38d9ec05ca04c59a9b60383797530cb",
       "version_major": 2,
       "version_minor": 0
      },
      "text/plain": [
       "Retrieving SummaryDoc documents:   0%|          | 0/22 [00:00<?, ?it/s]"
      ]
     },
     "metadata": {},
     "output_type": "display_data"
    },
    {
     "data": {
      "application/vnd.jupyter.widget-view+json": {
       "model_id": "0ffdb9cd23674ee69c1bf1930b287830",
       "version_major": 2,
       "version_minor": 0
      },
      "text/plain": [
       "Retrieving SummaryDoc documents: 0it [00:00, ?it/s]"
      ]
     },
     "metadata": {},
     "output_type": "display_data"
    },
    {
     "data": {
      "application/vnd.jupyter.widget-view+json": {
       "model_id": "7203452b08a643c4be6a8dc6f25d8f7f",
       "version_major": 2,
       "version_minor": 0
      },
      "text/plain": [
       "Retrieving SummaryDoc documents: 0it [00:00, ?it/s]"
      ]
     },
     "metadata": {},
     "output_type": "display_data"
    },
    {
     "data": {
      "application/vnd.jupyter.widget-view+json": {
       "model_id": "110c6f96f50a463ba96fb2641099172b",
       "version_major": 2,
       "version_minor": 0
      },
      "text/plain": [
       "Retrieving SummaryDoc documents: 0it [00:00, ?it/s]"
      ]
     },
     "metadata": {},
     "output_type": "display_data"
    },
    {
     "data": {
      "application/vnd.jupyter.widget-view+json": {
       "model_id": "37140d0989924f949301a50680afb3ea",
       "version_major": 2,
       "version_minor": 0
      },
      "text/plain": [
       "Retrieving SummaryDoc documents:   0%|          | 0/25 [00:00<?, ?it/s]"
      ]
     },
     "metadata": {},
     "output_type": "display_data"
    },
    {
     "data": {
      "application/vnd.jupyter.widget-view+json": {
       "model_id": "ee98dadad96745b2aaf56a5f84b8ef83",
       "version_major": 2,
       "version_minor": 0
      },
      "text/plain": [
       "Retrieving SummaryDoc documents:   0%|          | 0/25 [00:00<?, ?it/s]"
      ]
     },
     "metadata": {},
     "output_type": "display_data"
    },
    {
     "data": {
      "application/vnd.jupyter.widget-view+json": {
       "model_id": "6cc7090383604d9db5f692078f3a95d3",
       "version_major": 2,
       "version_minor": 0
      },
      "text/plain": [
       "Retrieving SummaryDoc documents:   0%|          | 0/25 [00:00<?, ?it/s]"
      ]
     },
     "metadata": {},
     "output_type": "display_data"
    },
    {
     "data": {
      "application/vnd.jupyter.widget-view+json": {
       "model_id": "338651c892e04a32a7aaa59446348e7d",
       "version_major": 2,
       "version_minor": 0
      },
      "text/plain": [
       "Retrieving SummaryDoc documents:   0%|          | 0/29 [00:00<?, ?it/s]"
      ]
     },
     "metadata": {},
     "output_type": "display_data"
    },
    {
     "data": {
      "application/vnd.jupyter.widget-view+json": {
       "model_id": "201e26bb19e940669beeba90f7d19aea",
       "version_major": 2,
       "version_minor": 0
      },
      "text/plain": [
       "Retrieving SummaryDoc documents:   0%|          | 0/29 [00:00<?, ?it/s]"
      ]
     },
     "metadata": {},
     "output_type": "display_data"
    },
    {
     "data": {
      "application/vnd.jupyter.widget-view+json": {
       "model_id": "41b84434a894469e815fa75c8c283651",
       "version_major": 2,
       "version_minor": 0
      },
      "text/plain": [
       "Retrieving SummaryDoc documents:   0%|          | 0/29 [00:00<?, ?it/s]"
      ]
     },
     "metadata": {},
     "output_type": "display_data"
    }
   ],
   "source": [
    "spd = StructurePhaseDiagram(Superconductor('YBCO'))\n",
    "\n",
    "with MaterialsProject() as db:\n",
    "    spd.add_database_structures(db)"
   ]
  },
  {
   "cell_type": "code",
   "execution_count": 8,
   "id": "a82b4508",
   "metadata": {
    "scrolled": false
   },
   "outputs": [
    {
     "data": {
      "application/javascript": [
       "/* Put everything inside the global mpl namespace */\n",
       "/* global mpl */\n",
       "window.mpl = {};\n",
       "\n",
       "mpl.get_websocket_type = function () {\n",
       "    if (typeof WebSocket !== 'undefined') {\n",
       "        return WebSocket;\n",
       "    } else if (typeof MozWebSocket !== 'undefined') {\n",
       "        return MozWebSocket;\n",
       "    } else {\n",
       "        alert(\n",
       "            'Your browser does not have WebSocket support. ' +\n",
       "                'Please try Chrome, Safari or Firefox ≥ 6. ' +\n",
       "                'Firefox 4 and 5 are also supported but you ' +\n",
       "                'have to enable WebSockets in about:config.'\n",
       "        );\n",
       "    }\n",
       "};\n",
       "\n",
       "mpl.figure = function (figure_id, websocket, ondownload, parent_element) {\n",
       "    this.id = figure_id;\n",
       "\n",
       "    this.ws = websocket;\n",
       "\n",
       "    this.supports_binary = this.ws.binaryType !== undefined;\n",
       "\n",
       "    if (!this.supports_binary) {\n",
       "        var warnings = document.getElementById('mpl-warnings');\n",
       "        if (warnings) {\n",
       "            warnings.style.display = 'block';\n",
       "            warnings.textContent =\n",
       "                'This browser does not support binary websocket messages. ' +\n",
       "                'Performance may be slow.';\n",
       "        }\n",
       "    }\n",
       "\n",
       "    this.imageObj = new Image();\n",
       "\n",
       "    this.context = undefined;\n",
       "    this.message = undefined;\n",
       "    this.canvas = undefined;\n",
       "    this.rubberband_canvas = undefined;\n",
       "    this.rubberband_context = undefined;\n",
       "    this.format_dropdown = undefined;\n",
       "\n",
       "    this.image_mode = 'full';\n",
       "\n",
       "    this.root = document.createElement('div');\n",
       "    this.root.setAttribute('style', 'display: inline-block');\n",
       "    this._root_extra_style(this.root);\n",
       "\n",
       "    parent_element.appendChild(this.root);\n",
       "\n",
       "    this._init_header(this);\n",
       "    this._init_canvas(this);\n",
       "    this._init_toolbar(this);\n",
       "\n",
       "    var fig = this;\n",
       "\n",
       "    this.waiting = false;\n",
       "\n",
       "    this.ws.onopen = function () {\n",
       "        fig.send_message('supports_binary', { value: fig.supports_binary });\n",
       "        fig.send_message('send_image_mode', {});\n",
       "        if (fig.ratio !== 1) {\n",
       "            fig.send_message('set_device_pixel_ratio', {\n",
       "                device_pixel_ratio: fig.ratio,\n",
       "            });\n",
       "        }\n",
       "        fig.send_message('refresh', {});\n",
       "    };\n",
       "\n",
       "    this.imageObj.onload = function () {\n",
       "        if (fig.image_mode === 'full') {\n",
       "            // Full images could contain transparency (where diff images\n",
       "            // almost always do), so we need to clear the canvas so that\n",
       "            // there is no ghosting.\n",
       "            fig.context.clearRect(0, 0, fig.canvas.width, fig.canvas.height);\n",
       "        }\n",
       "        fig.context.drawImage(fig.imageObj, 0, 0);\n",
       "    };\n",
       "\n",
       "    this.imageObj.onunload = function () {\n",
       "        fig.ws.close();\n",
       "    };\n",
       "\n",
       "    this.ws.onmessage = this._make_on_message_function(this);\n",
       "\n",
       "    this.ondownload = ondownload;\n",
       "};\n",
       "\n",
       "mpl.figure.prototype._init_header = function () {\n",
       "    var titlebar = document.createElement('div');\n",
       "    titlebar.classList =\n",
       "        'ui-dialog-titlebar ui-widget-header ui-corner-all ui-helper-clearfix';\n",
       "    var titletext = document.createElement('div');\n",
       "    titletext.classList = 'ui-dialog-title';\n",
       "    titletext.setAttribute(\n",
       "        'style',\n",
       "        'width: 100%; text-align: center; padding: 3px;'\n",
       "    );\n",
       "    titlebar.appendChild(titletext);\n",
       "    this.root.appendChild(titlebar);\n",
       "    this.header = titletext;\n",
       "};\n",
       "\n",
       "mpl.figure.prototype._canvas_extra_style = function (_canvas_div) {};\n",
       "\n",
       "mpl.figure.prototype._root_extra_style = function (_canvas_div) {};\n",
       "\n",
       "mpl.figure.prototype._init_canvas = function () {\n",
       "    var fig = this;\n",
       "\n",
       "    var canvas_div = (this.canvas_div = document.createElement('div'));\n",
       "    canvas_div.setAttribute(\n",
       "        'style',\n",
       "        'border: 1px solid #ddd;' +\n",
       "            'box-sizing: content-box;' +\n",
       "            'clear: both;' +\n",
       "            'min-height: 1px;' +\n",
       "            'min-width: 1px;' +\n",
       "            'outline: 0;' +\n",
       "            'overflow: hidden;' +\n",
       "            'position: relative;' +\n",
       "            'resize: both;'\n",
       "    );\n",
       "\n",
       "    function on_keyboard_event_closure(name) {\n",
       "        return function (event) {\n",
       "            return fig.key_event(event, name);\n",
       "        };\n",
       "    }\n",
       "\n",
       "    canvas_div.addEventListener(\n",
       "        'keydown',\n",
       "        on_keyboard_event_closure('key_press')\n",
       "    );\n",
       "    canvas_div.addEventListener(\n",
       "        'keyup',\n",
       "        on_keyboard_event_closure('key_release')\n",
       "    );\n",
       "\n",
       "    this._canvas_extra_style(canvas_div);\n",
       "    this.root.appendChild(canvas_div);\n",
       "\n",
       "    var canvas = (this.canvas = document.createElement('canvas'));\n",
       "    canvas.classList.add('mpl-canvas');\n",
       "    canvas.setAttribute('style', 'box-sizing: content-box;');\n",
       "\n",
       "    this.context = canvas.getContext('2d');\n",
       "\n",
       "    var backingStore =\n",
       "        this.context.backingStorePixelRatio ||\n",
       "        this.context.webkitBackingStorePixelRatio ||\n",
       "        this.context.mozBackingStorePixelRatio ||\n",
       "        this.context.msBackingStorePixelRatio ||\n",
       "        this.context.oBackingStorePixelRatio ||\n",
       "        this.context.backingStorePixelRatio ||\n",
       "        1;\n",
       "\n",
       "    this.ratio = (window.devicePixelRatio || 1) / backingStore;\n",
       "\n",
       "    var rubberband_canvas = (this.rubberband_canvas = document.createElement(\n",
       "        'canvas'\n",
       "    ));\n",
       "    rubberband_canvas.setAttribute(\n",
       "        'style',\n",
       "        'box-sizing: content-box; position: absolute; left: 0; top: 0; z-index: 1;'\n",
       "    );\n",
       "\n",
       "    // Apply a ponyfill if ResizeObserver is not implemented by browser.\n",
       "    if (this.ResizeObserver === undefined) {\n",
       "        if (window.ResizeObserver !== undefined) {\n",
       "            this.ResizeObserver = window.ResizeObserver;\n",
       "        } else {\n",
       "            var obs = _JSXTOOLS_RESIZE_OBSERVER({});\n",
       "            this.ResizeObserver = obs.ResizeObserver;\n",
       "        }\n",
       "    }\n",
       "\n",
       "    this.resizeObserverInstance = new this.ResizeObserver(function (entries) {\n",
       "        var nentries = entries.length;\n",
       "        for (var i = 0; i < nentries; i++) {\n",
       "            var entry = entries[i];\n",
       "            var width, height;\n",
       "            if (entry.contentBoxSize) {\n",
       "                if (entry.contentBoxSize instanceof Array) {\n",
       "                    // Chrome 84 implements new version of spec.\n",
       "                    width = entry.contentBoxSize[0].inlineSize;\n",
       "                    height = entry.contentBoxSize[0].blockSize;\n",
       "                } else {\n",
       "                    // Firefox implements old version of spec.\n",
       "                    width = entry.contentBoxSize.inlineSize;\n",
       "                    height = entry.contentBoxSize.blockSize;\n",
       "                }\n",
       "            } else {\n",
       "                // Chrome <84 implements even older version of spec.\n",
       "                width = entry.contentRect.width;\n",
       "                height = entry.contentRect.height;\n",
       "            }\n",
       "\n",
       "            // Keep the size of the canvas and rubber band canvas in sync with\n",
       "            // the canvas container.\n",
       "            if (entry.devicePixelContentBoxSize) {\n",
       "                // Chrome 84 implements new version of spec.\n",
       "                canvas.setAttribute(\n",
       "                    'width',\n",
       "                    entry.devicePixelContentBoxSize[0].inlineSize\n",
       "                );\n",
       "                canvas.setAttribute(\n",
       "                    'height',\n",
       "                    entry.devicePixelContentBoxSize[0].blockSize\n",
       "                );\n",
       "            } else {\n",
       "                canvas.setAttribute('width', width * fig.ratio);\n",
       "                canvas.setAttribute('height', height * fig.ratio);\n",
       "            }\n",
       "            canvas.setAttribute(\n",
       "                'style',\n",
       "                'width: ' + width + 'px; height: ' + height + 'px;'\n",
       "            );\n",
       "\n",
       "            rubberband_canvas.setAttribute('width', width);\n",
       "            rubberband_canvas.setAttribute('height', height);\n",
       "\n",
       "            // And update the size in Python. We ignore the initial 0/0 size\n",
       "            // that occurs as the element is placed into the DOM, which should\n",
       "            // otherwise not happen due to the minimum size styling.\n",
       "            if (fig.ws.readyState == 1 && width != 0 && height != 0) {\n",
       "                fig.request_resize(width, height);\n",
       "            }\n",
       "        }\n",
       "    });\n",
       "    this.resizeObserverInstance.observe(canvas_div);\n",
       "\n",
       "    function on_mouse_event_closure(name) {\n",
       "        return function (event) {\n",
       "            return fig.mouse_event(event, name);\n",
       "        };\n",
       "    }\n",
       "\n",
       "    rubberband_canvas.addEventListener(\n",
       "        'mousedown',\n",
       "        on_mouse_event_closure('button_press')\n",
       "    );\n",
       "    rubberband_canvas.addEventListener(\n",
       "        'mouseup',\n",
       "        on_mouse_event_closure('button_release')\n",
       "    );\n",
       "    rubberband_canvas.addEventListener(\n",
       "        'dblclick',\n",
       "        on_mouse_event_closure('dblclick')\n",
       "    );\n",
       "    // Throttle sequential mouse events to 1 every 20ms.\n",
       "    rubberband_canvas.addEventListener(\n",
       "        'mousemove',\n",
       "        on_mouse_event_closure('motion_notify')\n",
       "    );\n",
       "\n",
       "    rubberband_canvas.addEventListener(\n",
       "        'mouseenter',\n",
       "        on_mouse_event_closure('figure_enter')\n",
       "    );\n",
       "    rubberband_canvas.addEventListener(\n",
       "        'mouseleave',\n",
       "        on_mouse_event_closure('figure_leave')\n",
       "    );\n",
       "\n",
       "    canvas_div.addEventListener('wheel', function (event) {\n",
       "        if (event.deltaY < 0) {\n",
       "            event.step = 1;\n",
       "        } else {\n",
       "            event.step = -1;\n",
       "        }\n",
       "        on_mouse_event_closure('scroll')(event);\n",
       "    });\n",
       "\n",
       "    canvas_div.appendChild(canvas);\n",
       "    canvas_div.appendChild(rubberband_canvas);\n",
       "\n",
       "    this.rubberband_context = rubberband_canvas.getContext('2d');\n",
       "    this.rubberband_context.strokeStyle = '#000000';\n",
       "\n",
       "    this._resize_canvas = function (width, height, forward) {\n",
       "        if (forward) {\n",
       "            canvas_div.style.width = width + 'px';\n",
       "            canvas_div.style.height = height + 'px';\n",
       "        }\n",
       "    };\n",
       "\n",
       "    // Disable right mouse context menu.\n",
       "    this.rubberband_canvas.addEventListener('contextmenu', function (_e) {\n",
       "        event.preventDefault();\n",
       "        return false;\n",
       "    });\n",
       "\n",
       "    function set_focus() {\n",
       "        canvas.focus();\n",
       "        canvas_div.focus();\n",
       "    }\n",
       "\n",
       "    window.setTimeout(set_focus, 100);\n",
       "};\n",
       "\n",
       "mpl.figure.prototype._init_toolbar = function () {\n",
       "    var fig = this;\n",
       "\n",
       "    var toolbar = document.createElement('div');\n",
       "    toolbar.classList = 'mpl-toolbar';\n",
       "    this.root.appendChild(toolbar);\n",
       "\n",
       "    function on_click_closure(name) {\n",
       "        return function (_event) {\n",
       "            return fig.toolbar_button_onclick(name);\n",
       "        };\n",
       "    }\n",
       "\n",
       "    function on_mouseover_closure(tooltip) {\n",
       "        return function (event) {\n",
       "            if (!event.currentTarget.disabled) {\n",
       "                return fig.toolbar_button_onmouseover(tooltip);\n",
       "            }\n",
       "        };\n",
       "    }\n",
       "\n",
       "    fig.buttons = {};\n",
       "    var buttonGroup = document.createElement('div');\n",
       "    buttonGroup.classList = 'mpl-button-group';\n",
       "    for (var toolbar_ind in mpl.toolbar_items) {\n",
       "        var name = mpl.toolbar_items[toolbar_ind][0];\n",
       "        var tooltip = mpl.toolbar_items[toolbar_ind][1];\n",
       "        var image = mpl.toolbar_items[toolbar_ind][2];\n",
       "        var method_name = mpl.toolbar_items[toolbar_ind][3];\n",
       "\n",
       "        if (!name) {\n",
       "            /* Instead of a spacer, we start a new button group. */\n",
       "            if (buttonGroup.hasChildNodes()) {\n",
       "                toolbar.appendChild(buttonGroup);\n",
       "            }\n",
       "            buttonGroup = document.createElement('div');\n",
       "            buttonGroup.classList = 'mpl-button-group';\n",
       "            continue;\n",
       "        }\n",
       "\n",
       "        var button = (fig.buttons[name] = document.createElement('button'));\n",
       "        button.classList = 'mpl-widget';\n",
       "        button.setAttribute('role', 'button');\n",
       "        button.setAttribute('aria-disabled', 'false');\n",
       "        button.addEventListener('click', on_click_closure(method_name));\n",
       "        button.addEventListener('mouseover', on_mouseover_closure(tooltip));\n",
       "\n",
       "        var icon_img = document.createElement('img');\n",
       "        icon_img.src = '_images/' + image + '.png';\n",
       "        icon_img.srcset = '_images/' + image + '_large.png 2x';\n",
       "        icon_img.alt = tooltip;\n",
       "        button.appendChild(icon_img);\n",
       "\n",
       "        buttonGroup.appendChild(button);\n",
       "    }\n",
       "\n",
       "    if (buttonGroup.hasChildNodes()) {\n",
       "        toolbar.appendChild(buttonGroup);\n",
       "    }\n",
       "\n",
       "    var fmt_picker = document.createElement('select');\n",
       "    fmt_picker.classList = 'mpl-widget';\n",
       "    toolbar.appendChild(fmt_picker);\n",
       "    this.format_dropdown = fmt_picker;\n",
       "\n",
       "    for (var ind in mpl.extensions) {\n",
       "        var fmt = mpl.extensions[ind];\n",
       "        var option = document.createElement('option');\n",
       "        option.selected = fmt === mpl.default_extension;\n",
       "        option.innerHTML = fmt;\n",
       "        fmt_picker.appendChild(option);\n",
       "    }\n",
       "\n",
       "    var status_bar = document.createElement('span');\n",
       "    status_bar.classList = 'mpl-message';\n",
       "    toolbar.appendChild(status_bar);\n",
       "    this.message = status_bar;\n",
       "};\n",
       "\n",
       "mpl.figure.prototype.request_resize = function (x_pixels, y_pixels) {\n",
       "    // Request matplotlib to resize the figure. Matplotlib will then trigger a resize in the client,\n",
       "    // which will in turn request a refresh of the image.\n",
       "    this.send_message('resize', { width: x_pixels, height: y_pixels });\n",
       "};\n",
       "\n",
       "mpl.figure.prototype.send_message = function (type, properties) {\n",
       "    properties['type'] = type;\n",
       "    properties['figure_id'] = this.id;\n",
       "    this.ws.send(JSON.stringify(properties));\n",
       "};\n",
       "\n",
       "mpl.figure.prototype.send_draw_message = function () {\n",
       "    if (!this.waiting) {\n",
       "        this.waiting = true;\n",
       "        this.ws.send(JSON.stringify({ type: 'draw', figure_id: this.id }));\n",
       "    }\n",
       "};\n",
       "\n",
       "mpl.figure.prototype.handle_save = function (fig, _msg) {\n",
       "    var format_dropdown = fig.format_dropdown;\n",
       "    var format = format_dropdown.options[format_dropdown.selectedIndex].value;\n",
       "    fig.ondownload(fig, format);\n",
       "};\n",
       "\n",
       "mpl.figure.prototype.handle_resize = function (fig, msg) {\n",
       "    var size = msg['size'];\n",
       "    if (size[0] !== fig.canvas.width || size[1] !== fig.canvas.height) {\n",
       "        fig._resize_canvas(size[0], size[1], msg['forward']);\n",
       "        fig.send_message('refresh', {});\n",
       "    }\n",
       "};\n",
       "\n",
       "mpl.figure.prototype.handle_rubberband = function (fig, msg) {\n",
       "    var x0 = msg['x0'] / fig.ratio;\n",
       "    var y0 = (fig.canvas.height - msg['y0']) / fig.ratio;\n",
       "    var x1 = msg['x1'] / fig.ratio;\n",
       "    var y1 = (fig.canvas.height - msg['y1']) / fig.ratio;\n",
       "    x0 = Math.floor(x0) + 0.5;\n",
       "    y0 = Math.floor(y0) + 0.5;\n",
       "    x1 = Math.floor(x1) + 0.5;\n",
       "    y1 = Math.floor(y1) + 0.5;\n",
       "    var min_x = Math.min(x0, x1);\n",
       "    var min_y = Math.min(y0, y1);\n",
       "    var width = Math.abs(x1 - x0);\n",
       "    var height = Math.abs(y1 - y0);\n",
       "\n",
       "    fig.rubberband_context.clearRect(\n",
       "        0,\n",
       "        0,\n",
       "        fig.canvas.width / fig.ratio,\n",
       "        fig.canvas.height / fig.ratio\n",
       "    );\n",
       "\n",
       "    fig.rubberband_context.strokeRect(min_x, min_y, width, height);\n",
       "};\n",
       "\n",
       "mpl.figure.prototype.handle_figure_label = function (fig, msg) {\n",
       "    // Updates the figure title.\n",
       "    fig.header.textContent = msg['label'];\n",
       "};\n",
       "\n",
       "mpl.figure.prototype.handle_cursor = function (fig, msg) {\n",
       "    fig.rubberband_canvas.style.cursor = msg['cursor'];\n",
       "};\n",
       "\n",
       "mpl.figure.prototype.handle_message = function (fig, msg) {\n",
       "    fig.message.textContent = msg['message'];\n",
       "};\n",
       "\n",
       "mpl.figure.prototype.handle_draw = function (fig, _msg) {\n",
       "    // Request the server to send over a new figure.\n",
       "    fig.send_draw_message();\n",
       "};\n",
       "\n",
       "mpl.figure.prototype.handle_image_mode = function (fig, msg) {\n",
       "    fig.image_mode = msg['mode'];\n",
       "};\n",
       "\n",
       "mpl.figure.prototype.handle_history_buttons = function (fig, msg) {\n",
       "    for (var key in msg) {\n",
       "        if (!(key in fig.buttons)) {\n",
       "            continue;\n",
       "        }\n",
       "        fig.buttons[key].disabled = !msg[key];\n",
       "        fig.buttons[key].setAttribute('aria-disabled', !msg[key]);\n",
       "    }\n",
       "};\n",
       "\n",
       "mpl.figure.prototype.handle_navigate_mode = function (fig, msg) {\n",
       "    if (msg['mode'] === 'PAN') {\n",
       "        fig.buttons['Pan'].classList.add('active');\n",
       "        fig.buttons['Zoom'].classList.remove('active');\n",
       "    } else if (msg['mode'] === 'ZOOM') {\n",
       "        fig.buttons['Pan'].classList.remove('active');\n",
       "        fig.buttons['Zoom'].classList.add('active');\n",
       "    } else {\n",
       "        fig.buttons['Pan'].classList.remove('active');\n",
       "        fig.buttons['Zoom'].classList.remove('active');\n",
       "    }\n",
       "};\n",
       "\n",
       "mpl.figure.prototype.updated_canvas_event = function () {\n",
       "    // Called whenever the canvas gets updated.\n",
       "    this.send_message('ack', {});\n",
       "};\n",
       "\n",
       "// A function to construct a web socket function for onmessage handling.\n",
       "// Called in the figure constructor.\n",
       "mpl.figure.prototype._make_on_message_function = function (fig) {\n",
       "    return function socket_on_message(evt) {\n",
       "        if (evt.data instanceof Blob) {\n",
       "            var img = evt.data;\n",
       "            if (img.type !== 'image/png') {\n",
       "                /* FIXME: We get \"Resource interpreted as Image but\n",
       "                 * transferred with MIME type text/plain:\" errors on\n",
       "                 * Chrome.  But how to set the MIME type?  It doesn't seem\n",
       "                 * to be part of the websocket stream */\n",
       "                img.type = 'image/png';\n",
       "            }\n",
       "\n",
       "            /* Free the memory for the previous frames */\n",
       "            if (fig.imageObj.src) {\n",
       "                (window.URL || window.webkitURL).revokeObjectURL(\n",
       "                    fig.imageObj.src\n",
       "                );\n",
       "            }\n",
       "\n",
       "            fig.imageObj.src = (window.URL || window.webkitURL).createObjectURL(\n",
       "                img\n",
       "            );\n",
       "            fig.updated_canvas_event();\n",
       "            fig.waiting = false;\n",
       "            return;\n",
       "        } else if (\n",
       "            typeof evt.data === 'string' &&\n",
       "            evt.data.slice(0, 21) === 'data:image/png;base64'\n",
       "        ) {\n",
       "            fig.imageObj.src = evt.data;\n",
       "            fig.updated_canvas_event();\n",
       "            fig.waiting = false;\n",
       "            return;\n",
       "        }\n",
       "\n",
       "        var msg = JSON.parse(evt.data);\n",
       "        var msg_type = msg['type'];\n",
       "\n",
       "        // Call the  \"handle_{type}\" callback, which takes\n",
       "        // the figure and JSON message as its only arguments.\n",
       "        try {\n",
       "            var callback = fig['handle_' + msg_type];\n",
       "        } catch (e) {\n",
       "            console.log(\n",
       "                \"No handler for the '\" + msg_type + \"' message type: \",\n",
       "                msg\n",
       "            );\n",
       "            return;\n",
       "        }\n",
       "\n",
       "        if (callback) {\n",
       "            try {\n",
       "                // console.log(\"Handling '\" + msg_type + \"' message: \", msg);\n",
       "                callback(fig, msg);\n",
       "            } catch (e) {\n",
       "                console.log(\n",
       "                    \"Exception inside the 'handler_\" + msg_type + \"' callback:\",\n",
       "                    e,\n",
       "                    e.stack,\n",
       "                    msg\n",
       "                );\n",
       "            }\n",
       "        }\n",
       "    };\n",
       "};\n",
       "\n",
       "// from https://stackoverflow.com/questions/1114465/getting-mouse-location-in-canvas\n",
       "mpl.findpos = function (e) {\n",
       "    //this section is from http://www.quirksmode.org/js/events_properties.html\n",
       "    var targ;\n",
       "    if (!e) {\n",
       "        e = window.event;\n",
       "    }\n",
       "    if (e.target) {\n",
       "        targ = e.target;\n",
       "    } else if (e.srcElement) {\n",
       "        targ = e.srcElement;\n",
       "    }\n",
       "    if (targ.nodeType === 3) {\n",
       "        // defeat Safari bug\n",
       "        targ = targ.parentNode;\n",
       "    }\n",
       "\n",
       "    // pageX,Y are the mouse positions relative to the document\n",
       "    var boundingRect = targ.getBoundingClientRect();\n",
       "    var x = e.pageX - (boundingRect.left + document.body.scrollLeft);\n",
       "    var y = e.pageY - (boundingRect.top + document.body.scrollTop);\n",
       "\n",
       "    return { x: x, y: y };\n",
       "};\n",
       "\n",
       "/*\n",
       " * return a copy of an object with only non-object keys\n",
       " * we need this to avoid circular references\n",
       " * https://stackoverflow.com/a/24161582/3208463\n",
       " */\n",
       "function simpleKeys(original) {\n",
       "    return Object.keys(original).reduce(function (obj, key) {\n",
       "        if (typeof original[key] !== 'object') {\n",
       "            obj[key] = original[key];\n",
       "        }\n",
       "        return obj;\n",
       "    }, {});\n",
       "}\n",
       "\n",
       "mpl.figure.prototype.mouse_event = function (event, name) {\n",
       "    var canvas_pos = mpl.findpos(event);\n",
       "\n",
       "    if (name === 'button_press') {\n",
       "        this.canvas.focus();\n",
       "        this.canvas_div.focus();\n",
       "    }\n",
       "\n",
       "    var x = canvas_pos.x * this.ratio;\n",
       "    var y = canvas_pos.y * this.ratio;\n",
       "\n",
       "    this.send_message(name, {\n",
       "        x: x,\n",
       "        y: y,\n",
       "        button: event.button,\n",
       "        step: event.step,\n",
       "        guiEvent: simpleKeys(event),\n",
       "    });\n",
       "\n",
       "    /* This prevents the web browser from automatically changing to\n",
       "     * the text insertion cursor when the button is pressed.  We want\n",
       "     * to control all of the cursor setting manually through the\n",
       "     * 'cursor' event from matplotlib */\n",
       "    event.preventDefault();\n",
       "    return false;\n",
       "};\n",
       "\n",
       "mpl.figure.prototype._key_event_extra = function (_event, _name) {\n",
       "    // Handle any extra behaviour associated with a key event\n",
       "};\n",
       "\n",
       "mpl.figure.prototype.key_event = function (event, name) {\n",
       "    // Prevent repeat events\n",
       "    if (name === 'key_press') {\n",
       "        if (event.key === this._key) {\n",
       "            return;\n",
       "        } else {\n",
       "            this._key = event.key;\n",
       "        }\n",
       "    }\n",
       "    if (name === 'key_release') {\n",
       "        this._key = null;\n",
       "    }\n",
       "\n",
       "    var value = '';\n",
       "    if (event.ctrlKey && event.key !== 'Control') {\n",
       "        value += 'ctrl+';\n",
       "    }\n",
       "    else if (event.altKey && event.key !== 'Alt') {\n",
       "        value += 'alt+';\n",
       "    }\n",
       "    else if (event.shiftKey && event.key !== 'Shift') {\n",
       "        value += 'shift+';\n",
       "    }\n",
       "\n",
       "    value += 'k' + event.key;\n",
       "\n",
       "    this._key_event_extra(event, name);\n",
       "\n",
       "    this.send_message(name, { key: value, guiEvent: simpleKeys(event) });\n",
       "    return false;\n",
       "};\n",
       "\n",
       "mpl.figure.prototype.toolbar_button_onclick = function (name) {\n",
       "    if (name === 'download') {\n",
       "        this.handle_save(this, null);\n",
       "    } else {\n",
       "        this.send_message('toolbar_button', { name: name });\n",
       "    }\n",
       "};\n",
       "\n",
       "mpl.figure.prototype.toolbar_button_onmouseover = function (tooltip) {\n",
       "    this.message.textContent = tooltip;\n",
       "};\n",
       "\n",
       "///////////////// REMAINING CONTENT GENERATED BY embed_js.py /////////////////\n",
       "// prettier-ignore\n",
       "var _JSXTOOLS_RESIZE_OBSERVER=function(A){var t,i=new WeakMap,n=new WeakMap,a=new WeakMap,r=new WeakMap,o=new Set;function s(e){if(!(this instanceof s))throw new TypeError(\"Constructor requires 'new' operator\");i.set(this,e)}function h(){throw new TypeError(\"Function is not a constructor\")}function c(e,t,i,n){e=0 in arguments?Number(arguments[0]):0,t=1 in arguments?Number(arguments[1]):0,i=2 in arguments?Number(arguments[2]):0,n=3 in arguments?Number(arguments[3]):0,this.right=(this.x=this.left=e)+(this.width=i),this.bottom=(this.y=this.top=t)+(this.height=n),Object.freeze(this)}function d(){t=requestAnimationFrame(d);var s=new WeakMap,p=new Set;o.forEach((function(t){r.get(t).forEach((function(i){var r=t instanceof window.SVGElement,o=a.get(t),d=r?0:parseFloat(o.paddingTop),f=r?0:parseFloat(o.paddingRight),l=r?0:parseFloat(o.paddingBottom),u=r?0:parseFloat(o.paddingLeft),g=r?0:parseFloat(o.borderTopWidth),m=r?0:parseFloat(o.borderRightWidth),w=r?0:parseFloat(o.borderBottomWidth),b=u+f,F=d+l,v=(r?0:parseFloat(o.borderLeftWidth))+m,W=g+w,y=r?0:t.offsetHeight-W-t.clientHeight,E=r?0:t.offsetWidth-v-t.clientWidth,R=b+v,z=F+W,M=r?t.width:parseFloat(o.width)-R-E,O=r?t.height:parseFloat(o.height)-z-y;if(n.has(t)){var k=n.get(t);if(k[0]===M&&k[1]===O)return}n.set(t,[M,O]);var S=Object.create(h.prototype);S.target=t,S.contentRect=new c(u,d,M,O),s.has(i)||(s.set(i,[]),p.add(i)),s.get(i).push(S)}))})),p.forEach((function(e){i.get(e).call(e,s.get(e),e)}))}return s.prototype.observe=function(i){if(i instanceof window.Element){r.has(i)||(r.set(i,new Set),o.add(i),a.set(i,window.getComputedStyle(i)));var n=r.get(i);n.has(this)||n.add(this),cancelAnimationFrame(t),t=requestAnimationFrame(d)}},s.prototype.unobserve=function(i){if(i instanceof window.Element&&r.has(i)){var n=r.get(i);n.has(this)&&(n.delete(this),n.size||(r.delete(i),o.delete(i))),n.size||r.delete(i),o.size||cancelAnimationFrame(t)}},A.DOMRectReadOnly=c,A.ResizeObserver=s,A.ResizeObserverEntry=h,A}; // eslint-disable-line\n",
       "mpl.toolbar_items = [[\"Home\", \"Reset original view\", \"fa fa-home icon-home\", \"home\"], [\"Back\", \"Back to previous view\", \"fa fa-arrow-left icon-arrow-left\", \"back\"], [\"Forward\", \"Forward to next view\", \"fa fa-arrow-right icon-arrow-right\", \"forward\"], [\"\", \"\", \"\", \"\"], [\"Pan\", \"Left button pans, Right button zooms\\nx/y fixes axis, CTRL fixes aspect\", \"fa fa-arrows icon-move\", \"pan\"], [\"Zoom\", \"Zoom to rectangle\\nx/y fixes axis\", \"fa fa-square-o icon-check-empty\", \"zoom\"], [\"\", \"\", \"\", \"\"], [\"Download\", \"Download plot\", \"fa fa-floppy-o icon-save\", \"download\"]];\n",
       "\n",
       "mpl.extensions = [\"eps\", \"jpeg\", \"pgf\", \"pdf\", \"png\", \"ps\", \"raw\", \"svg\", \"tif\"];\n",
       "\n",
       "mpl.default_extension = \"png\";/* global mpl */\n",
       "\n",
       "var comm_websocket_adapter = function (comm) {\n",
       "    // Create a \"websocket\"-like object which calls the given IPython comm\n",
       "    // object with the appropriate methods. Currently this is a non binary\n",
       "    // socket, so there is still some room for performance tuning.\n",
       "    var ws = {};\n",
       "\n",
       "    ws.binaryType = comm.kernel.ws.binaryType;\n",
       "    ws.readyState = comm.kernel.ws.readyState;\n",
       "    function updateReadyState(_event) {\n",
       "        if (comm.kernel.ws) {\n",
       "            ws.readyState = comm.kernel.ws.readyState;\n",
       "        } else {\n",
       "            ws.readyState = 3; // Closed state.\n",
       "        }\n",
       "    }\n",
       "    comm.kernel.ws.addEventListener('open', updateReadyState);\n",
       "    comm.kernel.ws.addEventListener('close', updateReadyState);\n",
       "    comm.kernel.ws.addEventListener('error', updateReadyState);\n",
       "\n",
       "    ws.close = function () {\n",
       "        comm.close();\n",
       "    };\n",
       "    ws.send = function (m) {\n",
       "        //console.log('sending', m);\n",
       "        comm.send(m);\n",
       "    };\n",
       "    // Register the callback with on_msg.\n",
       "    comm.on_msg(function (msg) {\n",
       "        //console.log('receiving', msg['content']['data'], msg);\n",
       "        var data = msg['content']['data'];\n",
       "        if (data['blob'] !== undefined) {\n",
       "            data = {\n",
       "                data: new Blob(msg['buffers'], { type: data['blob'] }),\n",
       "            };\n",
       "        }\n",
       "        // Pass the mpl event to the overridden (by mpl) onmessage function.\n",
       "        ws.onmessage(data);\n",
       "    });\n",
       "    return ws;\n",
       "};\n",
       "\n",
       "mpl.mpl_figure_comm = function (comm, msg) {\n",
       "    // This is the function which gets called when the mpl process\n",
       "    // starts-up an IPython Comm through the \"matplotlib\" channel.\n",
       "\n",
       "    var id = msg.content.data.id;\n",
       "    // Get hold of the div created by the display call when the Comm\n",
       "    // socket was opened in Python.\n",
       "    var element = document.getElementById(id);\n",
       "    var ws_proxy = comm_websocket_adapter(comm);\n",
       "\n",
       "    function ondownload(figure, _format) {\n",
       "        window.open(figure.canvas.toDataURL());\n",
       "    }\n",
       "\n",
       "    var fig = new mpl.figure(id, ws_proxy, ondownload, element);\n",
       "\n",
       "    // Call onopen now - mpl needs it, as it is assuming we've passed it a real\n",
       "    // web socket which is closed, not our websocket->open comm proxy.\n",
       "    ws_proxy.onopen();\n",
       "\n",
       "    fig.parent_element = element;\n",
       "    fig.cell_info = mpl.find_output_cell(\"<div id='\" + id + \"'></div>\");\n",
       "    if (!fig.cell_info) {\n",
       "        console.error('Failed to find cell for figure', id, fig);\n",
       "        return;\n",
       "    }\n",
       "    fig.cell_info[0].output_area.element.on(\n",
       "        'cleared',\n",
       "        { fig: fig },\n",
       "        fig._remove_fig_handler\n",
       "    );\n",
       "};\n",
       "\n",
       "mpl.figure.prototype.handle_close = function (fig, msg) {\n",
       "    var width = fig.canvas.width / fig.ratio;\n",
       "    fig.cell_info[0].output_area.element.off(\n",
       "        'cleared',\n",
       "        fig._remove_fig_handler\n",
       "    );\n",
       "    fig.resizeObserverInstance.unobserve(fig.canvas_div);\n",
       "\n",
       "    // Update the output cell to use the data from the current canvas.\n",
       "    fig.push_to_output();\n",
       "    var dataURL = fig.canvas.toDataURL();\n",
       "    // Re-enable the keyboard manager in IPython - without this line, in FF,\n",
       "    // the notebook keyboard shortcuts fail.\n",
       "    IPython.keyboard_manager.enable();\n",
       "    fig.parent_element.innerHTML =\n",
       "        '<img src=\"' + dataURL + '\" width=\"' + width + '\">';\n",
       "    fig.close_ws(fig, msg);\n",
       "};\n",
       "\n",
       "mpl.figure.prototype.close_ws = function (fig, msg) {\n",
       "    fig.send_message('closing', msg);\n",
       "    // fig.ws.close()\n",
       "};\n",
       "\n",
       "mpl.figure.prototype.push_to_output = function (_remove_interactive) {\n",
       "    // Turn the data on the canvas into data in the output cell.\n",
       "    var width = this.canvas.width / this.ratio;\n",
       "    var dataURL = this.canvas.toDataURL();\n",
       "    this.cell_info[1]['text/html'] =\n",
       "        '<img src=\"' + dataURL + '\" width=\"' + width + '\">';\n",
       "};\n",
       "\n",
       "mpl.figure.prototype.updated_canvas_event = function () {\n",
       "    // Tell IPython that the notebook contents must change.\n",
       "    IPython.notebook.set_dirty(true);\n",
       "    this.send_message('ack', {});\n",
       "    var fig = this;\n",
       "    // Wait a second, then push the new image to the DOM so\n",
       "    // that it is saved nicely (might be nice to debounce this).\n",
       "    setTimeout(function () {\n",
       "        fig.push_to_output();\n",
       "    }, 1000);\n",
       "};\n",
       "\n",
       "mpl.figure.prototype._init_toolbar = function () {\n",
       "    var fig = this;\n",
       "\n",
       "    var toolbar = document.createElement('div');\n",
       "    toolbar.classList = 'btn-toolbar';\n",
       "    this.root.appendChild(toolbar);\n",
       "\n",
       "    function on_click_closure(name) {\n",
       "        return function (_event) {\n",
       "            return fig.toolbar_button_onclick(name);\n",
       "        };\n",
       "    }\n",
       "\n",
       "    function on_mouseover_closure(tooltip) {\n",
       "        return function (event) {\n",
       "            if (!event.currentTarget.disabled) {\n",
       "                return fig.toolbar_button_onmouseover(tooltip);\n",
       "            }\n",
       "        };\n",
       "    }\n",
       "\n",
       "    fig.buttons = {};\n",
       "    var buttonGroup = document.createElement('div');\n",
       "    buttonGroup.classList = 'btn-group';\n",
       "    var button;\n",
       "    for (var toolbar_ind in mpl.toolbar_items) {\n",
       "        var name = mpl.toolbar_items[toolbar_ind][0];\n",
       "        var tooltip = mpl.toolbar_items[toolbar_ind][1];\n",
       "        var image = mpl.toolbar_items[toolbar_ind][2];\n",
       "        var method_name = mpl.toolbar_items[toolbar_ind][3];\n",
       "\n",
       "        if (!name) {\n",
       "            /* Instead of a spacer, we start a new button group. */\n",
       "            if (buttonGroup.hasChildNodes()) {\n",
       "                toolbar.appendChild(buttonGroup);\n",
       "            }\n",
       "            buttonGroup = document.createElement('div');\n",
       "            buttonGroup.classList = 'btn-group';\n",
       "            continue;\n",
       "        }\n",
       "\n",
       "        button = fig.buttons[name] = document.createElement('button');\n",
       "        button.classList = 'btn btn-default';\n",
       "        button.href = '#';\n",
       "        button.title = name;\n",
       "        button.innerHTML = '<i class=\"fa ' + image + ' fa-lg\"></i>';\n",
       "        button.addEventListener('click', on_click_closure(method_name));\n",
       "        button.addEventListener('mouseover', on_mouseover_closure(tooltip));\n",
       "        buttonGroup.appendChild(button);\n",
       "    }\n",
       "\n",
       "    if (buttonGroup.hasChildNodes()) {\n",
       "        toolbar.appendChild(buttonGroup);\n",
       "    }\n",
       "\n",
       "    // Add the status bar.\n",
       "    var status_bar = document.createElement('span');\n",
       "    status_bar.classList = 'mpl-message pull-right';\n",
       "    toolbar.appendChild(status_bar);\n",
       "    this.message = status_bar;\n",
       "\n",
       "    // Add the close button to the window.\n",
       "    var buttongrp = document.createElement('div');\n",
       "    buttongrp.classList = 'btn-group inline pull-right';\n",
       "    button = document.createElement('button');\n",
       "    button.classList = 'btn btn-mini btn-primary';\n",
       "    button.href = '#';\n",
       "    button.title = 'Stop Interaction';\n",
       "    button.innerHTML = '<i class=\"fa fa-power-off icon-remove icon-large\"></i>';\n",
       "    button.addEventListener('click', function (_evt) {\n",
       "        fig.handle_close(fig, {});\n",
       "    });\n",
       "    button.addEventListener(\n",
       "        'mouseover',\n",
       "        on_mouseover_closure('Stop Interaction')\n",
       "    );\n",
       "    buttongrp.appendChild(button);\n",
       "    var titlebar = this.root.querySelector('.ui-dialog-titlebar');\n",
       "    titlebar.insertBefore(buttongrp, titlebar.firstChild);\n",
       "};\n",
       "\n",
       "mpl.figure.prototype._remove_fig_handler = function (event) {\n",
       "    var fig = event.data.fig;\n",
       "    if (event.target !== this) {\n",
       "        // Ignore bubbled events from children.\n",
       "        return;\n",
       "    }\n",
       "    fig.close_ws(fig, {});\n",
       "};\n",
       "\n",
       "mpl.figure.prototype._root_extra_style = function (el) {\n",
       "    el.style.boxSizing = 'content-box'; // override notebook setting of border-box.\n",
       "};\n",
       "\n",
       "mpl.figure.prototype._canvas_extra_style = function (el) {\n",
       "    // this is important to make the div 'focusable\n",
       "    el.setAttribute('tabindex', 0);\n",
       "    // reach out to IPython and tell the keyboard manager to turn it's self\n",
       "    // off when our div gets focus\n",
       "\n",
       "    // location in version 3\n",
       "    if (IPython.notebook.keyboard_manager) {\n",
       "        IPython.notebook.keyboard_manager.register_events(el);\n",
       "    } else {\n",
       "        // location in version 2\n",
       "        IPython.keyboard_manager.register_events(el);\n",
       "    }\n",
       "};\n",
       "\n",
       "mpl.figure.prototype._key_event_extra = function (event, _name) {\n",
       "    // Check for shift+enter\n",
       "    if (event.shiftKey && event.which === 13) {\n",
       "        this.canvas_div.blur();\n",
       "        // select the cell after this one\n",
       "        var index = IPython.notebook.find_cell_index(this.cell_info[0]);\n",
       "        IPython.notebook.select(index + 1);\n",
       "    }\n",
       "};\n",
       "\n",
       "mpl.figure.prototype.handle_save = function (fig, _msg) {\n",
       "    fig.ondownload(fig, null);\n",
       "};\n",
       "\n",
       "mpl.find_output_cell = function (html_output) {\n",
       "    // Return the cell and output element which can be found *uniquely* in the notebook.\n",
       "    // Note - this is a bit hacky, but it is done because the \"notebook_saving.Notebook\"\n",
       "    // IPython event is triggered only after the cells have been serialised, which for\n",
       "    // our purposes (turning an active figure into a static one), is too late.\n",
       "    var cells = IPython.notebook.get_cells();\n",
       "    var ncells = cells.length;\n",
       "    for (var i = 0; i < ncells; i++) {\n",
       "        var cell = cells[i];\n",
       "        if (cell.cell_type === 'code') {\n",
       "            for (var j = 0; j < cell.output_area.outputs.length; j++) {\n",
       "                var data = cell.output_area.outputs[j];\n",
       "                if (data.data) {\n",
       "                    // IPython >= 3 moved mimebundle to data attribute of output\n",
       "                    data = data.data;\n",
       "                }\n",
       "                if (data['text/html'] === html_output) {\n",
       "                    return [cell, data, j];\n",
       "                }\n",
       "            }\n",
       "        }\n",
       "    }\n",
       "};\n",
       "\n",
       "// Register the function which deals with the matplotlib target/channel.\n",
       "// The kernel may be null if the page has been refreshed.\n",
       "if (IPython.notebook.kernel !== null) {\n",
       "    IPython.notebook.kernel.comm_manager.register_target(\n",
       "        'matplotlib',\n",
       "        mpl.mpl_figure_comm\n",
       "    );\n",
       "}\n"
      ],
      "text/plain": [
       "<IPython.core.display.Javascript object>"
      ]
     },
     "metadata": {},
     "output_type": "display_data"
    },
    {
     "data": {
      "text/html": [
       "<img src=\"data:image/png;base64,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\" width=\"800\">"
      ],
      "text/plain": [
       "<IPython.core.display.HTML object>"
      ]
     },
     "metadata": {},
     "output_type": "display_data"
    }
   ],
   "source": [
    "import matplotlib.pyplot as plt\n",
    "from sctk.materials import Superconductor\n",
    "%matplotlib notebook\n",
    "\n",
    "plt.figure('Phase Diagram',figsize=(8,5))\n",
    "ax = plt.subplot(111)\n",
    "ax = spd.plot(['Y', 'Ba', 'Cu'], ax=ax, \n",
    "              subset_only=True, show_ehull=True)\n",
    "plt.show()"
   ]
  },
  {
   "cell_type": "code",
   "execution_count": 6,
   "id": "9793b420",
   "metadata": {},
   "outputs": [
    {
     "ename": "SyntaxError",
     "evalue": "unterminated string literal (detected at line 11) (1672274435.py, line 11)",
     "output_type": "error",
     "traceback": [
      "\u001b[0;36m  Cell \u001b[0;32mIn [6], line 11\u001b[0;36m\u001b[0m\n\u001b[0;31m    print(f'Found match {match.str()} for {ybco.str()}'')\u001b[0m\n\u001b[0m                                                       ^\u001b[0m\n\u001b[0;31mSyntaxError\u001b[0m\u001b[0;31m:\u001b[0m unterminated string literal (detected at line 11)\n"
     ]
    }
   ],
   "source": [
    "import numpy as np\n",
    "ybco_base = Superconductor('Y-123', canonical_variables=True)\n",
    "ybcos = [ \n",
    "    ybco_base.copy().substitute('δ', x) \n",
    "    for x in np.linspace(0.0, 1.0, 5)\n",
    "]\n",
    "\n",
    "for ybco in ybcos:\n",
    "    match, match_atoms = spd.find_closest_structure(ybco, metric='composition', max_ehull=0.1)\n",
    "    match =\n",
    "    print(f'Found match {match.str()} for {ybco.str()}'')"
   ]
  },
  {
   "cell_type": "code",
   "execution_count": null,
   "id": "6ca1f95e",
   "metadata": {},
   "outputs": [],
   "source": [
    "from sctk.structure import DefectSupercellBuilder\n",
    "from ase.visualize import view\n",
    "from ase.build import find_optimal_cell_shape, make_supercell"
   ]
  },
  {
   "cell_type": "code",
   "execution_count": null,
   "id": "1452e962",
   "metadata": {},
   "outputs": [],
   "source": [
    "sc = Superconductor('YBCO')\n",
    "_, sc_atoms = spd.find_closest_structure(sc)\n",
    "\n",
    "dsb = DefectSupercellBuilder(sc_atoms)\n",
    "dsb.set_supercell_matrix(np.diag([1,1,1]))\n",
    "dsb.add_substitution('Ba', 'Ca', 1)\n",
    "\n",
    "sc_supercell = dsb.get()\n",
    "\n",
    "#P = find_optimal_cell_shape(sc_atoms.cell,4,'fcc')\n",
    "#sc_supercell = make_supercell(sc_atoms, P)\n",
    "\n",
    "print(Material(sc_supercell.get_chemical_formula()).str())\n",
    "\n",
    "view(sc_supercell, viewer='x3d')"
   ]
  },
  {
   "cell_type": "code",
   "execution_count": null,
   "id": "7ebc641b",
   "metadata": {},
   "outputs": [],
   "source": []
  }
 ],
 "metadata": {
  "kernelspec": {
   "display_name": "Python 3 (ipykernel)",
   "language": "python",
   "name": "python3"
  },
  "language_info": {
   "codemirror_mode": {
    "name": "ipython",
    "version": 3
   },
   "file_extension": ".py",
   "mimetype": "text/x-python",
   "name": "python",
   "nbconvert_exporter": "python",
   "pygments_lexer": "ipython3",
   "version": "3.10.6"
  }
 },
 "nbformat": 4,
 "nbformat_minor": 5
}
